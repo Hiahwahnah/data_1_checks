{
 "cells": [
  {
   "cell_type": "code",
   "execution_count": 8,
   "metadata": {},
   "outputs": [],
   "source": [
    "import pandas as pd\n",
    "import numpy as np"
   ]
  },
  {
   "cell_type": "code",
   "execution_count": 9,
   "metadata": {},
   "outputs": [],
   "source": [
    "df = pd.read_csv('assets/LMPD_Crime_Data_2022.csv', low_memory=False)"
   ]
  },
  {
   "cell_type": "code",
   "execution_count": 10,
   "metadata": {},
   "outputs": [
    {
     "name": "stdout",
     "output_type": "stream",
     "text": [
      "(71506, 16)\n"
     ]
    },
    {
     "data": {
      "text/html": [
       "<div>\n",
       "<style scoped>\n",
       "    .dataframe tbody tr th:only-of-type {\n",
       "        vertical-align: middle;\n",
       "    }\n",
       "\n",
       "    .dataframe tbody tr th {\n",
       "        vertical-align: top;\n",
       "    }\n",
       "\n",
       "    .dataframe thead th {\n",
       "        text-align: right;\n",
       "    }\n",
       "</style>\n",
       "<table border=\"1\" class=\"dataframe\">\n",
       "  <thead>\n",
       "    <tr style=\"text-align: right;\">\n",
       "      <th></th>\n",
       "      <th>INCIDENT_NUMBER</th>\n",
       "      <th>DATE_REPORTED</th>\n",
       "      <th>DATE_OCCURED</th>\n",
       "      <th>BADGE_ID</th>\n",
       "      <th>CRIME_TYPE</th>\n",
       "      <th>UOR_DESC</th>\n",
       "      <th>NIBRS_CODE</th>\n",
       "      <th>UCR_HIERARCHY</th>\n",
       "      <th>ATT_COMP</th>\n",
       "      <th>LMPD_DIVISION</th>\n",
       "      <th>LMPD_BEAT</th>\n",
       "      <th>PREMISE_TYPE</th>\n",
       "      <th>BLOCK_ADDRESS</th>\n",
       "      <th>City</th>\n",
       "      <th>ZIP_CODE</th>\n",
       "      <th>ObjectId</th>\n",
       "    </tr>\n",
       "  </thead>\n",
       "  <tbody>\n",
       "    <tr>\n",
       "      <th>0</th>\n",
       "      <td>80-22-000334</td>\n",
       "      <td>2022/01/02 16:49:00</td>\n",
       "      <td>2022/01/02 15:49:00</td>\n",
       "      <td>5276</td>\n",
       "      <td>DRUGS/ALCOHOL VIOLATIONS</td>\n",
       "      <td>POSS CONT SUB-1ST DEGREE-1ST OFFENSE-HEROIN</td>\n",
       "      <td>35A</td>\n",
       "      <td>PART II</td>\n",
       "      <td>COMPLETED</td>\n",
       "      <td>6TH DIVISION</td>\n",
       "      <td>625</td>\n",
       "      <td>RESTAURANT</td>\n",
       "      <td>3400 BLOCK BARDSTOWN RD                       ...</td>\n",
       "      <td>LOUISVILLE</td>\n",
       "      <td>40218</td>\n",
       "      <td>1</td>\n",
       "    </tr>\n",
       "    <tr>\n",
       "      <th>1</th>\n",
       "      <td>80-22-000333</td>\n",
       "      <td>2022/01/02 18:14:00</td>\n",
       "      <td>2022/01/02 18:00:00</td>\n",
       "      <td>5363</td>\n",
       "      <td>BURGLARY</td>\n",
       "      <td>BURGLARY - 2ND DEGREE</td>\n",
       "      <td>220</td>\n",
       "      <td>PART I</td>\n",
       "      <td>COMPLETED</td>\n",
       "      <td>6TH DIVISION</td>\n",
       "      <td>624</td>\n",
       "      <td>OTHER RESIDENCE (APARTMENT/CONDO)</td>\n",
       "      <td>4300 BLOCK NEWPORT RD                         ...</td>\n",
       "      <td>LOUISVILLE</td>\n",
       "      <td>40218</td>\n",
       "      <td>2</td>\n",
       "    </tr>\n",
       "    <tr>\n",
       "      <th>2</th>\n",
       "      <td>80-22-000335</td>\n",
       "      <td>2022/01/02 18:37:00</td>\n",
       "      <td>2022/01/01 21:00:00</td>\n",
       "      <td>8063</td>\n",
       "      <td>THEFT/LARCENY</td>\n",
       "      <td>TBUT OR DISP FIREARM</td>\n",
       "      <td>23H</td>\n",
       "      <td>PART I</td>\n",
       "      <td>COMPLETED</td>\n",
       "      <td>4TH DIVISION</td>\n",
       "      <td>424</td>\n",
       "      <td>HIGHWAY / ROAD / ALLEY</td>\n",
       "      <td>4000 BLOCK SOUTHERN PKY                       ...</td>\n",
       "      <td>LOUISVILLE</td>\n",
       "      <td>40214</td>\n",
       "      <td>3</td>\n",
       "    </tr>\n",
       "    <tr>\n",
       "      <th>3</th>\n",
       "      <td>80-22-000336</td>\n",
       "      <td>2022/01/02 18:31:00</td>\n",
       "      <td>2022/01/02 18:14:00</td>\n",
       "      <td>7381</td>\n",
       "      <td>OTHER</td>\n",
       "      <td>DOMESTIC ABUSE DUTIES OF LAW ENFORCEMENT</td>\n",
       "      <td>90Z</td>\n",
       "      <td>PART II</td>\n",
       "      <td>COMPLETED</td>\n",
       "      <td>2ND DIVISION</td>\n",
       "      <td>223</td>\n",
       "      <td>OTHER RESIDENCE (APARTMENT/CONDO)</td>\n",
       "      <td>1400 BLOCK BEECH ST                           ...</td>\n",
       "      <td>LOUISVILLE</td>\n",
       "      <td>40211</td>\n",
       "      <td>4</td>\n",
       "    </tr>\n",
       "    <tr>\n",
       "      <th>4</th>\n",
       "      <td>80-22-000338</td>\n",
       "      <td>2022/01/02 18:51:00</td>\n",
       "      <td>2022/01/02 18:20:00</td>\n",
       "      <td>8063</td>\n",
       "      <td>THEFT/LARCENY</td>\n",
       "      <td>TBUT OR DISP SHOPLIFTING $500 &lt; $1,000</td>\n",
       "      <td>23C</td>\n",
       "      <td>PART I</td>\n",
       "      <td>COMPLETED</td>\n",
       "      <td>3RD DIVISION</td>\n",
       "      <td>323</td>\n",
       "      <td>DEPARTMENT / DISCOUNT STORE</td>\n",
       "      <td>100 BLOCK OUTER LOOP                          ...</td>\n",
       "      <td>LOUISVILLE</td>\n",
       "      <td>40214</td>\n",
       "      <td>5</td>\n",
       "    </tr>\n",
       "  </tbody>\n",
       "</table>\n",
       "</div>"
      ],
      "text/plain": [
       "  INCIDENT_NUMBER        DATE_REPORTED         DATE_OCCURED          BADGE_ID  \\\n",
       "0    80-22-000334  2022/01/02 16:49:00  2022/01/02 15:49:00  5276               \n",
       "1    80-22-000333  2022/01/02 18:14:00  2022/01/02 18:00:00  5363               \n",
       "2    80-22-000335  2022/01/02 18:37:00  2022/01/01 21:00:00  8063               \n",
       "3    80-22-000336  2022/01/02 18:31:00  2022/01/02 18:14:00  7381               \n",
       "4    80-22-000338  2022/01/02 18:51:00  2022/01/02 18:20:00  8063               \n",
       "\n",
       "                 CRIME_TYPE                                     UOR_DESC  \\\n",
       "0  DRUGS/ALCOHOL VIOLATIONS  POSS CONT SUB-1ST DEGREE-1ST OFFENSE-HEROIN   \n",
       "1                  BURGLARY                        BURGLARY - 2ND DEGREE   \n",
       "2             THEFT/LARCENY                         TBUT OR DISP FIREARM   \n",
       "3                     OTHER     DOMESTIC ABUSE DUTIES OF LAW ENFORCEMENT   \n",
       "4             THEFT/LARCENY       TBUT OR DISP SHOPLIFTING $500 < $1,000   \n",
       "\n",
       "  NIBRS_CODE UCR_HIERARCHY   ATT_COMP LMPD_DIVISION LMPD_BEAT  \\\n",
       "0        35A       PART II  COMPLETED  6TH DIVISION       625   \n",
       "1        220        PART I  COMPLETED  6TH DIVISION       624   \n",
       "2        23H        PART I  COMPLETED  4TH DIVISION       424   \n",
       "3        90Z       PART II  COMPLETED  2ND DIVISION       223   \n",
       "4        23C        PART I  COMPLETED  3RD DIVISION       323   \n",
       "\n",
       "                                    PREMISE_TYPE  \\\n",
       "0  RESTAURANT                                      \n",
       "1  OTHER RESIDENCE (APARTMENT/CONDO)               \n",
       "2  HIGHWAY / ROAD / ALLEY                          \n",
       "3  OTHER RESIDENCE (APARTMENT/CONDO)               \n",
       "4  DEPARTMENT / DISCOUNT STORE                     \n",
       "\n",
       "                                       BLOCK_ADDRESS        City ZIP_CODE  \\\n",
       "0  3400 BLOCK BARDSTOWN RD                       ...  LOUISVILLE    40218   \n",
       "1  4300 BLOCK NEWPORT RD                         ...  LOUISVILLE    40218   \n",
       "2  4000 BLOCK SOUTHERN PKY                       ...  LOUISVILLE    40214   \n",
       "3  1400 BLOCK BEECH ST                           ...  LOUISVILLE    40211   \n",
       "4  100 BLOCK OUTER LOOP                          ...  LOUISVILLE    40214   \n",
       "\n",
       "   ObjectId  \n",
       "0         1  \n",
       "1         2  \n",
       "2         3  \n",
       "3         4  \n",
       "4         5  "
      ]
     },
     "execution_count": 10,
     "metadata": {},
     "output_type": "execute_result"
    }
   ],
   "source": [
    "print(df.shape)\n",
    "df.head()"
   ]
  },
  {
   "cell_type": "code",
   "execution_count": 11,
   "metadata": {},
   "outputs": [
    {
     "data": {
      "text/plain": [
       "Index(['INCIDENT_NUMBER', 'DATE_REPORTED', 'DATE_OCCURED', 'BADGE_ID',\n",
       "       'CRIME_TYPE', 'UOR_DESC', 'NIBRS_CODE', 'UCR_HIERARCHY', 'ATT_COMP',\n",
       "       'LMPD_DIVISION', 'LMPD_BEAT', 'PREMISE_TYPE', 'BLOCK_ADDRESS', 'City',\n",
       "       'ZIP_CODE', 'ObjectId'],\n",
       "      dtype='object')"
      ]
     },
     "execution_count": 11,
     "metadata": {},
     "output_type": "execute_result"
    }
   ],
   "source": [
    "df.columns"
   ]
  },
  {
   "cell_type": "code",
   "execution_count": 12,
   "metadata": {},
   "outputs": [],
   "source": [
    "# Assuming 'df' is your DataFrame\n",
    "columns_to_remove = ['UOR_DESC', 'NIBRS_CODE', 'UCR_HIERARCHY', 'ATT_COMP']\n",
    "\n",
    "df = df.drop(columns=columns_to_remove)\n"
   ]
  },
  {
   "cell_type": "code",
   "execution_count": 13,
   "metadata": {},
   "outputs": [
    {
     "data": {
      "text/plain": [
       "Index(['incident_number', 'date_reported', 'date_occured', 'badge_id',\n",
       "       'crime_type', 'lmpd_division', 'lmpd_beat', 'premise_type',\n",
       "       'block_address', 'city', 'zip_code', 'object_id'],\n",
       "      dtype='object')"
      ]
     },
     "execution_count": 13,
     "metadata": {},
     "output_type": "execute_result"
    }
   ],
   "source": [
    "fixed_columns = {\n",
    "    'INCIDENT_NUMBER':'incident_number',\n",
    "    'DATE_REPORTED':'date_reported',\n",
    "    'DATE_OCCURED':'date_occured',\n",
    "    'BADGE_ID':'badge_id',\n",
    "    'CRIME_TYPE':'crime_type',\n",
    "    'LMPD_DIVISION':'lmpd_division',\n",
    "    'LMPD_BEAT':'lmpd_beat',\n",
    "    'PREMISE_TYPE':'premise_type',\n",
    "    'BLOCK_ADDRESS':'block_address',\n",
    "    'City':'city',\n",
    "    'ZIP_CODE':'zip_code',\n",
    "    'ObjectId':'object_id'\n",
    "}\n",
    "\n",
    "df.rename(columns=fixed_columns,inplace=True)\n",
    "df.columns"
   ]
  },
  {
   "cell_type": "code",
   "execution_count": 14,
   "metadata": {},
   "outputs": [
    {
     "name": "stdout",
     "output_type": "stream",
     "text": [
      "(71506, 12)\n"
     ]
    }
   ],
   "source": [
    "print(df.shape)"
   ]
  }
 ],
 "metadata": {
  "kernelspec": {
   "display_name": "Python 3",
   "language": "python",
   "name": "python3"
  },
  "language_info": {
   "codemirror_mode": {
    "name": "ipython",
    "version": 3
   },
   "file_extension": ".py",
   "mimetype": "text/x-python",
   "name": "python",
   "nbconvert_exporter": "python",
   "pygments_lexer": "ipython3",
   "version": "3.11.1"
  },
  "orig_nbformat": 4
 },
 "nbformat": 4,
 "nbformat_minor": 2
}
