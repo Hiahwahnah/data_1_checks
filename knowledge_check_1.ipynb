{
 "cells": [
  {
   "cell_type": "code",
   "execution_count": 5,
   "metadata": {},
   "outputs": [
    {
     "name": "stdout",
     "output_type": "stream",
     "text": [
      "hello world!\n"
     ]
    }
   ],
   "source": [
    "# a statement that prints \"hello world!\"\n",
    "print(\"hello world!\")"
   ]
  },
  {
   "cell_type": "code",
   "execution_count": 4,
   "metadata": {},
   "outputs": [
    {
     "name": "stdout",
     "output_type": "stream",
     "text": [
      "enterior cleaning\n"
     ]
    }
   ],
   "source": [
    "# a list populated with several values.\n",
    "to_do_list = [\n",
    "    \"oil change\",\n",
    "    \"tire rotation\",\n",
    "    \"brake inspection\",\n",
    "    \"enterior cleaning\",\n",
    "    \"exterior wash\"\n",
    "]\n",
    "\n",
    "# print() one of those values\n",
    "print(to_do_list[-2])"
   ]
  },
  {
   "cell_type": "code",
   "execution_count": 3,
   "metadata": {},
   "outputs": [
    {
     "name": "stdout",
     "output_type": "stream",
     "text": [
      "Hyundai\n"
     ]
    }
   ],
   "source": [
    "#a dictionary populated with two keys and two values\n",
    "driver_dictionary = {\"Richard\" : \"Honda\" , \"Michelle\" : \"Hyundai\"}\n",
    "\n",
    "# print one of the values\n",
    "print(driver_dictionary.get(\"Michelle\"))"
   ]
  },
  {
   "cell_type": "code",
   "execution_count": 16,
   "metadata": {},
   "outputs": [
    {
     "name": "stdout",
     "output_type": "stream",
     "text": [
      "Zoe\n"
     ]
    }
   ],
   "source": [
    "# a tuple with 4 values\n",
    "my_children = (\"Haley\", \"Mackenzie\", \"Zoe\", \"Bethany\")\n",
    "\n",
    "# print one of them\n",
    "print(my_children[2])"
   ]
  }
 ],
 "metadata": {
  "kernelspec": {
   "display_name": "Python 3",
   "language": "python",
   "name": "python3"
  },
  "language_info": {
   "codemirror_mode": {
    "name": "ipython",
    "version": 3
   },
   "file_extension": ".py",
   "mimetype": "text/x-python",
   "name": "python",
   "nbconvert_exporter": "python",
   "pygments_lexer": "ipython3",
   "version": "3.11.1"
  },
  "orig_nbformat": 4,
  "vscode": {
   "interpreter": {
    "hash": "c19fcfbef25e0793fe4e1245110512e3a3d9ac917435d41f597d2a9d1fc970d3"
   }
  }
 },
 "nbformat": 4,
 "nbformat_minor": 2
}
