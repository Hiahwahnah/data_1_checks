{
 "cells": [
  {
   "cell_type": "code",
   "execution_count": 12,
   "metadata": {},
   "outputs": [
    {
     "name": "stdout",
     "output_type": "stream",
     "text": [
      "hello world!\n"
     ]
    }
   ],
   "source": [
    "# a statement that prints \"hello world!\"\n",
    "\n",
    "print(\"hello world!\")"
   ]
  },
  {
   "cell_type": "code",
   "execution_count": 13,
   "metadata": {},
   "outputs": [
    {
     "name": "stdout",
     "output_type": "stream",
     "text": [
      "enterior cleaning\n"
     ]
    }
   ],
   "source": [
    "# a list populated with several values.\n",
    "\n",
    "to_do_list = [\n",
    "    \"oil change\",\n",
    "    \"tire rotation\",\n",
    "    \"brake inspection\",\n",
    "    \"enterior cleaning\",\n",
    "    \"exterior wash\"\n",
    "]\n",
    "\n",
    "# print() one of those values\n",
    "\n",
    "print(to_do_list[3])"
   ]
  },
  {
   "cell_type": "code",
   "execution_count": 14,
   "metadata": {},
   "outputs": [
    {
     "name": "stdout",
     "output_type": "stream",
     "text": [
      "Hyundai\n"
     ]
    }
   ],
   "source": [
    "#a dictionary populated with two keys and two values\n",
    "\n",
    "driver_dictionary = {\"Richard\" : \"Honda\" , \"Michelle\" : \"Hyundai\"}\n",
    "\n",
    "# print one of the values\n",
    "\n",
    "print(driver_dictionary[\"Michelle\"])"
   ]
  },
  {
   "cell_type": "code",
   "execution_count": 16,
   "metadata": {},
   "outputs": [
    {
     "name": "stdout",
     "output_type": "stream",
     "text": [
      "Zoe\n"
     ]
    }
   ],
   "source": [
    "# a tuple with 4 values\n",
    "\n",
    "my_children = (\"Haley\", \"Mackenzie\", \"Zoe\", \"Bethany\")\n",
    "\n",
    "# print one of them\n",
    "\n",
    "print(my_children[2])"
   ]
  }
 ],
 "metadata": {
  "kernelspec": {
   "display_name": "Python 3",
   "language": "python",
   "name": "python3"
  },
  "language_info": {
   "codemirror_mode": {
    "name": "ipython",
    "version": 3
   },
   "file_extension": ".py",
   "mimetype": "text/x-python",
   "name": "python",
   "nbconvert_exporter": "python",
   "pygments_lexer": "ipython3",
   "version": "3.11.1"
  },
  "orig_nbformat": 4,
  "vscode": {
   "interpreter": {
    "hash": "c19fcfbef25e0793fe4e1245110512e3a3d9ac917435d41f597d2a9d1fc970d3"
   }
  }
 },
 "nbformat": 4,
 "nbformat_minor": 2
}
